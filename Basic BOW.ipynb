{
 "cells": [
  {
   "cell_type": "code",
   "execution_count": null,
   "metadata": {},
   "outputs": [],
   "source": [
    "import pandas as pd\n",
    "import numpy as np\n",
    "from sklearn.feature_extraction.text import CountVectorizer\n",
    "# To read files\n",
    "test_raw = pd.read_csv('test.csv')\n",
    "train_raw = pd.read_csv('train.csv')\n",
    "# To convert to unicode\n",
    "test_raw = test_raw.astype('U')\n",
    "train_raw = train_raw.astype('U')\n",
    "# To prepare data for BOW\n",
    "train_list = train_raw.question1.tolist()\n",
    "train_list.extend(train_raw.question2.tolist())\n",
    "test_list = test_raw.question1.tolist()\n",
    "test_list.extend(test_raw.question2.tolist())\n",
    "# To convert strings to vectors with BOW\n",
    "vectorizer = CountVectorizer()\n",
    "train_vect = vectorizer.fit(train_list)\n",
    "vectorizer = CountVectorizer()\n",
    "test_vect = vectorizer.fit(test_list)\n",
    "# To extract vocabularies and print the sizes\n",
    "train_vocab = set(train_vect.vocabulary_.keys())\n",
    "test_vocab = set(test_vect.vocabulary_.keys())\n",
    "print('Vocabulary sizes of train set and test set are {} and {}, respectively.\\nCommon vocabulary size is {}.'\n",
    "      .format(len(train_vocab), len(test_vocab), len(train_vocab.intersection(test_vocab))))"
   ]
  }
 ],
 "metadata": {
  "kernelspec": {
   "display_name": "Python 3",
   "language": "python",
   "name": "python3"
  },
  "language_info": {
   "codemirror_mode": {
    "name": "ipython",
    "version": 3
   },
   "file_extension": ".py",
   "mimetype": "text/x-python",
   "name": "python",
   "nbconvert_exporter": "python",
   "pygments_lexer": "ipython3",
   "version": "3.6.5"
  }
 },
 "nbformat": 4,
 "nbformat_minor": 2
}
